{
 "cells": [
  {
   "cell_type": "code",
   "execution_count": 2,
   "id": "36fe50d9",
   "metadata": {
    "scrolled": true
   },
   "outputs": [],
   "source": [
    "import os\n",
    "import cv2\n",
    "import pickle\n",
    "import numpy as np\n",
    "import matplotlib.pyplot as plt\n",
    "\n",
    "from tqdm import tqdm\n",
    "from numpy.linalg import norm\n",
    "from tensorflow.keras import Sequential, Model\n",
    "from sklearn.neighbors import NearestNeighbors\n",
    "from tensorflow.keras.preprocessing import image\n",
    "from tensorflow.keras.layers import GlobalMaxPooling2D, Flatten, Dense\n",
    "from tensorflow.keras.utils import load_img, img_to_array\n",
    "from tensorflow.keras.applications.resnet_v2 import ResNet50V2,preprocess_input\n",
    "from tensorflow.keras.applications.vgg19 import VGG19"
   ]
  },
  {
   "cell_type": "code",
   "execution_count": 3,
   "id": "2b98c9a9",
   "metadata": {},
   "outputs": [],
   "source": [
    "model = ResNet50V2(weights='imagenet',include_top=False,input_shape=(224,224,3))\n",
    "model.trainable = False\n",
    "\n",
    "model = Sequential([\n",
    "    model,\n",
    "    GlobalMaxPooling2D()\n",
    "])"
   ]
  },
  {
   "cell_type": "code",
   "execution_count": 61,
   "id": "5db8467b",
   "metadata": {},
   "outputs": [],
   "source": [
    "feature_list = np.array(pickle.load(open('D:/Project Local/feature-extraction/models/resnet50v2/features.pkl', 'rb')))\n",
    "filenames = pickle.load(open('D:/Project Local/feature-extraction/models/resnet50v2/filenames.pkl', 'rb'))\n",
    "new_filenames = [data.split('/')[-1:] for data in filenames]"
   ]
  },
  {
   "cell_type": "code",
   "execution_count": 9,
   "id": "ae206483",
   "metadata": {},
   "outputs": [
    {
     "data": {
      "text/plain": [
       "4260"
      ]
     },
     "execution_count": 9,
     "metadata": {},
     "output_type": "execute_result"
    }
   ],
   "source": [
    "len(filenames)"
   ]
  },
  {
   "cell_type": "code",
   "execution_count": 53,
   "id": "9a931275",
   "metadata": {},
   "outputs": [],
   "source": [
    "import pandas as pd"
   ]
  },
  {
   "cell_type": "code",
   "execution_count": 72,
   "id": "580392f7",
   "metadata": {},
   "outputs": [
    {
     "name": "stdout",
     "output_type": "stream",
     "text": [
      "1/1 [==============================] - 0s 62ms/step\n"
     ]
    }
   ],
   "source": [
    "query_img = 'D:/Project Local/feature-extraction/test/test12.jpg'\n",
    "img = load_img(query_img,target_size=(224,224))\n",
    "img_array = img_to_array(img)\n",
    "expanded_img_array = np.expand_dims(img_array, axis=0)\n",
    "preprocessed_img = preprocess_input(expanded_img_array)\n",
    "result = model.predict(preprocessed_img).flatten()\n",
    "normalized_result = result / norm(result)\n",
    "\n",
    "neighbors = NearestNeighbors(n_neighbors=10,algorithm='brute',metric='cosine')\n",
    "neighbors.fit(feature_list)\n",
    "\n",
    "distances,indices = neighbors.kneighbors([normalized_result])\n",
    "\n",
    "# print(distances)\n",
    "\n",
    "pred = []\n",
    "\n",
    "for i in range(10):\n",
    "    index = indices[0][i]\n",
    "    distance = distances[0][i]\n",
    "    result = new_filenames[index][0].split('.jpg')[0]\n",
    "    score = round((1-(distance/1))*100, 2)\n",
    "    product_name = result\n",
    "    id_product = get_product_id(data_path='D:/Project Local/feature-extraction/data/all_product.csv', product=product_name)\n",
    "    pred.append([id_product[0], product_name, score])\n",
    "df = pd.DataFrame(pred, columns=['id_product', 'product_name', 'score'])"
   ]
  },
  {
   "cell_type": "code",
   "execution_count": 73,
   "id": "60a8f740",
   "metadata": {},
   "outputs": [
    {
     "data": {
      "text/html": [
       "<div>\n",
       "<style scoped>\n",
       "    .dataframe tbody tr th:only-of-type {\n",
       "        vertical-align: middle;\n",
       "    }\n",
       "\n",
       "    .dataframe tbody tr th {\n",
       "        vertical-align: top;\n",
       "    }\n",
       "\n",
       "    .dataframe thead th {\n",
       "        text-align: right;\n",
       "    }\n",
       "</style>\n",
       "<table border=\"1\" class=\"dataframe\">\n",
       "  <thead>\n",
       "    <tr style=\"text-align: right;\">\n",
       "      <th></th>\n",
       "      <th>id_product</th>\n",
       "      <th>product_name</th>\n",
       "      <th>score</th>\n",
       "    </tr>\n",
       "  </thead>\n",
       "  <tbody>\n",
       "    <tr>\n",
       "      <th>0</th>\n",
       "      <td>6145</td>\n",
       "      <td>Wipro Bor Listrik SDS W6261 26mm</td>\n",
       "      <td>100.00</td>\n",
       "    </tr>\n",
       "    <tr>\n",
       "      <th>1</th>\n",
       "      <td>6144</td>\n",
       "      <td>Wipro Bor Listrik SDS W6240 24mm</td>\n",
       "      <td>79.14</td>\n",
       "    </tr>\n",
       "    <tr>\n",
       "      <th>2</th>\n",
       "      <td>6143</td>\n",
       "      <td>Wipro Bor Listrik Impact W6137 13mm</td>\n",
       "      <td>78.79</td>\n",
       "    </tr>\n",
       "    <tr>\n",
       "      <th>3</th>\n",
       "      <td>6163</td>\n",
       "      <td>Wipro Bor Listrik Impact W6132 13mm</td>\n",
       "      <td>78.11</td>\n",
       "    </tr>\n",
       "    <tr>\n",
       "      <th>4</th>\n",
       "      <td>6142</td>\n",
       "      <td>Wipro Bor Listrik Impact W6130 13mm</td>\n",
       "      <td>75.19</td>\n",
       "    </tr>\n",
       "    <tr>\n",
       "      <th>5</th>\n",
       "      <td>6152</td>\n",
       "      <td>Maktec Bor 6,5mm MT 653</td>\n",
       "      <td>74.16</td>\n",
       "    </tr>\n",
       "    <tr>\n",
       "      <th>6</th>\n",
       "      <td>1837</td>\n",
       "      <td>Mesin Bor Beton 13 mm Bosch GSB 550</td>\n",
       "      <td>73.05</td>\n",
       "    </tr>\n",
       "    <tr>\n",
       "      <th>7</th>\n",
       "      <td>1838</td>\n",
       "      <td>Mesin Bor Baterai Cordless Drill Makita DF 331</td>\n",
       "      <td>72.59</td>\n",
       "    </tr>\n",
       "    <tr>\n",
       "      <th>8</th>\n",
       "      <td>6151</td>\n",
       "      <td>Wipro Gerinda 3600 6 inch</td>\n",
       "      <td>72.42</td>\n",
       "    </tr>\n",
       "    <tr>\n",
       "      <th>9</th>\n",
       "      <td>6155</td>\n",
       "      <td>Makita Bor Beton 16mm HP 1630</td>\n",
       "      <td>71.38</td>\n",
       "    </tr>\n",
       "  </tbody>\n",
       "</table>\n",
       "</div>"
      ],
      "text/plain": [
       "   id_product                                    product_name   score\n",
       "0        6145                Wipro Bor Listrik SDS W6261 26mm  100.00\n",
       "1        6144                Wipro Bor Listrik SDS W6240 24mm   79.14\n",
       "2        6143             Wipro Bor Listrik Impact W6137 13mm   78.79\n",
       "3        6163             Wipro Bor Listrik Impact W6132 13mm   78.11\n",
       "4        6142             Wipro Bor Listrik Impact W6130 13mm   75.19\n",
       "5        6152                         Maktec Bor 6,5mm MT 653   74.16\n",
       "6        1837             Mesin Bor Beton 13 mm Bosch GSB 550   73.05\n",
       "7        1838  Mesin Bor Baterai Cordless Drill Makita DF 331   72.59\n",
       "8        6151                       Wipro Gerinda 3600 6 inch   72.42\n",
       "9        6155                   Makita Bor Beton 16mm HP 1630   71.38"
      ]
     },
     "execution_count": 73,
     "metadata": {},
     "output_type": "execute_result"
    }
   ],
   "source": [
    "df"
   ]
  },
  {
   "cell_type": "code",
   "execution_count": 74,
   "id": "f71a6cb7",
   "metadata": {},
   "outputs": [],
   "source": [
    "import json"
   ]
  },
  {
   "cell_type": "code",
   "execution_count": null,
   "id": "41edd24f",
   "metadata": {},
   "outputs": [],
   "source": []
  },
  {
   "cell_type": "code",
   "execution_count": 77,
   "id": "f0bf93a5",
   "metadata": {},
   "outputs": [],
   "source": [
    "temp_json = 'D:/Project Local/feature-extraction/temp/result.json'\n",
    "df.to_json(temp_json, orient='records')\n",
    "f = open(temp_json)\n",
    "data_json = json.load(f)"
   ]
  },
  {
   "cell_type": "code",
   "execution_count": 78,
   "id": "09cc63b8",
   "metadata": {},
   "outputs": [
    {
     "data": {
      "text/plain": [
       "[{'id_product': 6145,\n",
       "  'product_name': 'Wipro Bor Listrik SDS W6261 26mm',\n",
       "  'score': 100.0},\n",
       " {'id_product': 6144,\n",
       "  'product_name': 'Wipro Bor Listrik SDS W6240 24mm',\n",
       "  'score': 79.14},\n",
       " {'id_product': 6143,\n",
       "  'product_name': 'Wipro Bor Listrik Impact W6137 13mm',\n",
       "  'score': 78.79},\n",
       " {'id_product': 6163,\n",
       "  'product_name': 'Wipro Bor Listrik Impact W6132 13mm',\n",
       "  'score': 78.11},\n",
       " {'id_product': 6142,\n",
       "  'product_name': 'Wipro Bor Listrik Impact W6130 13mm',\n",
       "  'score': 75.19},\n",
       " {'id_product': 6152,\n",
       "  'product_name': 'Maktec Bor 6,5mm MT 653',\n",
       "  'score': 74.16},\n",
       " {'id_product': 1837,\n",
       "  'product_name': 'Mesin Bor Beton 13 mm Bosch GSB 550',\n",
       "  'score': 73.05},\n",
       " {'id_product': 1838,\n",
       "  'product_name': 'Mesin Bor Baterai Cordless Drill Makita DF 331',\n",
       "  'score': 72.59},\n",
       " {'id_product': 6151,\n",
       "  'product_name': 'Wipro Gerinda 3600 6 inch',\n",
       "  'score': 72.42},\n",
       " {'id_product': 6155,\n",
       "  'product_name': 'Makita Bor Beton 16mm HP 1630',\n",
       "  'score': 71.38}]"
      ]
     },
     "execution_count": 78,
     "metadata": {},
     "output_type": "execute_result"
    }
   ],
   "source": [
    "data_json"
   ]
  },
  {
   "cell_type": "code",
   "execution_count": 69,
   "id": "3434d94e",
   "metadata": {},
   "outputs": [],
   "source": [
    "def get_product_id(data_path, product):\n",
    "    df_data = pd.read_csv(data_path)\n",
    "    nn = []\n",
    "    for nama in df_data.values:\n",
    "        new_nama = str(nama[1]).replace('/', '_')\n",
    "        nn.append(new_nama)\n",
    "    df_data['NewName'] = nn\n",
    "    df_data.drop(columns=['PdNama'], inplace=True)\n",
    "    result = [data_num[0] for data_num in df_data.values if product == data_num[1]]\n",
    "    return result"
   ]
  },
  {
   "cell_type": "code",
   "execution_count": 24,
   "id": "79233c86",
   "metadata": {},
   "outputs": [
    {
     "name": "stdout",
     "output_type": "stream",
     "text": [
      "[1.1920929e-07 2.0862925e-01 2.1213269e-01 ... 7.9899073e-01 8.0128855e-01\n",
      " 8.0128855e-01]\n"
     ]
    }
   ],
   "source": [
    "for a in distances:\n",
    "    print(distances[0])"
   ]
  },
  {
   "cell_type": "code",
   "execution_count": null,
   "id": "d128c1c1",
   "metadata": {},
   "outputs": [],
   "source": []
  },
  {
   "cell_type": "code",
   "execution_count": null,
   "id": "acc30125",
   "metadata": {},
   "outputs": [],
   "source": []
  },
  {
   "cell_type": "code",
   "execution_count": null,
   "id": "8ef88890",
   "metadata": {},
   "outputs": [],
   "source": []
  },
  {
   "cell_type": "code",
   "execution_count": null,
   "id": "ca1e7e69",
   "metadata": {},
   "outputs": [],
   "source": []
  },
  {
   "cell_type": "code",
   "execution_count": null,
   "id": "b0fba9ad",
   "metadata": {},
   "outputs": [],
   "source": []
  },
  {
   "cell_type": "code",
   "execution_count": 3,
   "id": "0b5c82ca",
   "metadata": {},
   "outputs": [
    {
     "name": "stdout",
     "output_type": "stream",
     "text": [
      "\n",
      "1/1 [==============================] - ETA: 0s\n",
      "1/1 [==============================] - 1s 759ms/step\n",
      "1978 0.0\n",
      "1980 0.20862919\n",
      "1981 0.21213251\n",
      "1976 0.2189169\n",
      "1974 0.24806082\n",
      "['Wipro Bor Listrik SDS W6261 26mm', 'Wipro Bor Listrik SDS W6240 24mm', 'Wipro Bor Listrik Impact W6137 13mm', 'Wipro Bor Listrik Impact W6132 13mm', 'Wipro Bor Listrik Impact W6130 13mm']\n"
     ]
    },
    {
     "name": "stderr",
     "output_type": "stream",
     "text": [
      "2023-08-30 20:29:17.064896: I tensorflow/core/platform/cpu_feature_guard.cc:182] This TensorFlow binary is optimized to use available CPU instructions in performance-critical operations.\n",
      "To enable the following instructions: SSE SSE2 SSE3 SSE4.1 SSE4.2 AVX AVX2 AVX512F AVX512_VNNI FMA, in other operations, rebuild TensorFlow with the appropriate compiler flags.\n"
     ]
    }
   ],
   "source": [
    "!python main3.py"
   ]
  },
  {
   "cell_type": "code",
   "execution_count": null,
   "id": "f6124617",
   "metadata": {},
   "outputs": [],
   "source": []
  },
  {
   "cell_type": "code",
   "execution_count": null,
   "id": "5b763d43",
   "metadata": {},
   "outputs": [],
   "source": []
  },
  {
   "cell_type": "code",
   "execution_count": null,
   "id": "26175e0c",
   "metadata": {},
   "outputs": [],
   "source": []
  },
  {
   "cell_type": "code",
   "execution_count": null,
   "id": "0f43868f",
   "metadata": {},
   "outputs": [],
   "source": []
  },
  {
   "cell_type": "code",
   "execution_count": null,
   "id": "9fb71970",
   "metadata": {},
   "outputs": [],
   "source": [
    "import os\n",
    "import cv2\n",
    "import pickle\n",
    "import numpy as np\n",
    "import matplotlib.pyplot as plt\n",
    "\n",
    "from tqdm import tqdm\n",
    "from numpy.linalg import norm\n",
    "from tensorflow.keras import Sequential, Model\n",
    "from sklearn.neighbors import NearestNeighbors\n",
    "from tensorflow.keras.preprocessing import image\n",
    "from tensorflow.keras.layers import GlobalMaxPooling2D, Flatten, Dense\n",
    "from tensorflow.keras.utils import load_img, img_to_array\n",
    "from tensorflow.keras.applications.resnet_v2 import ResNet50V2,preprocess_input\n",
    "from tensorflow.keras.applications.vgg19 import VGG19"
   ]
  },
  {
   "cell_type": "code",
   "execution_count": null,
   "id": "e0bc0d38",
   "metadata": {},
   "outputs": [],
   "source": [
    "model = ResNet50V2(weights='imagenet',include_top=False,input_shape=(224,224,3))\n",
    "model.trainable = False\n",
    "\n",
    "model = Sequential([\n",
    "    model,\n",
    "    GlobalMaxPooling2D()\n",
    "])"
   ]
  },
  {
   "cell_type": "code",
   "execution_count": null,
   "id": "d70f5267",
   "metadata": {},
   "outputs": [],
   "source": [
    "base_path = os.getcwd()\n",
    "pickle_path = os.path.join(base_path, 'pickle-group')"
   ]
  },
  {
   "cell_type": "code",
   "execution_count": null,
   "id": "fcdd05bd",
   "metadata": {},
   "outputs": [],
   "source": [
    "feature_list = np.array(pickle.load(open('models/resnet/resv2features.pkl', 'rb')))\n",
    "filenames = pickle.load(open('models/resnet/resv2filenames.pkl', 'rb'))"
   ]
  },
  {
   "cell_type": "code",
   "execution_count": null,
   "id": "0c31c2ee",
   "metadata": {},
   "outputs": [],
   "source": [
    "filenames"
   ]
  },
  {
   "cell_type": "code",
   "execution_count": null,
   "id": "ea0a92ec",
   "metadata": {},
   "outputs": [],
   "source": [
    "new_filenames = [f\"{data.split('/')[-2:][0]}/{data.split('/')[-2:][1]}\" for data in filenames]\n",
    "new_filenames"
   ]
  },
  {
   "cell_type": "code",
   "execution_count": null,
   "id": "dc96c818",
   "metadata": {},
   "outputs": [],
   "source": [
    "import matplotlib.pyplot as plt"
   ]
  },
  {
   "cell_type": "code",
   "execution_count": null,
   "id": "5f17562e",
   "metadata": {
    "scrolled": false
   },
   "outputs": [],
   "source": [
    "query_img = 'test/test12.jpg'\n",
    "img = load_img(query_img,target_size=(224,224))\n",
    "img_array = img_to_array(img)\n",
    "expanded_img_array = np.expand_dims(img_array, axis=0)\n",
    "preprocessed_img = preprocess_input(expanded_img_array)\n",
    "result = model.predict(preprocessed_img).flatten()\n",
    "normalized_result = result / norm(result)\n",
    "\n",
    "neighbors = NearestNeighbors(n_neighbors=5,algorithm='brute',metric='cosine')\n",
    "neighbors.fit(feature_list)\n",
    "\n",
    "distances,indices = neighbors.kneighbors([normalized_result])\n",
    "\n",
    "img = cv2.imread(query_img)\n",
    "# plt.imshow(img)\n",
    "# plt.title('query image')\n",
    "# plt.axis(\"off\")\n",
    "# plt.show()\n",
    "\n",
    "pred = []\n",
    "\n",
    "\n",
    "# print(indices)\n",
    "for i in range(5):\n",
    "    index = indices[0][i]\n",
    "    distance = distances[0][i]\n",
    "#     group = filenames[index].split('/')[-2:][0]#.split('.jpg')[0]\n",
    "    name = filenames[index].split('.jpg')[0]\n",
    "#     img_hehe = cv2.imread(f\"tkquick-group/{group}/{name}.jpg\")\n",
    "#     plt.imshow(img_hehe)\n",
    "#     plt.title(name)\n",
    "#     plt.axis(\"off\")\n",
    "#     plt.show()\n",
    "    print(index, distance)\n",
    "    pred.append(name)\n",
    "print(pred)"
   ]
  },
  {
   "cell_type": "code",
   "execution_count": null,
   "id": "2ae6a0d7",
   "metadata": {},
   "outputs": [],
   "source": [
    "!python main2.py"
   ]
  },
  {
   "cell_type": "code",
   "execution_count": null,
   "id": "5eaca77f",
   "metadata": {},
   "outputs": [],
   "source": [
    "for i in range(5):\n",
    "    index = 3206\n",
    "#     distance = distances[0][i]\n",
    "#     group = new_filenames[index].split('/')[-2:][0]#.split('.jpg')[0]\n",
    "    name = new_filenames[index].split('/')[-2:][1].split('.jpg')[0]\n",
    "    print(name)\n",
    "#     print(index)"
   ]
  },
  {
   "cell_type": "code",
   "execution_count": null,
   "id": "48ff563e",
   "metadata": {},
   "outputs": [],
   "source": [
    "# resnet\n",
    "3368\n",
    "3206\n",
    "2733\n",
    "4128\n",
    "3227\n",
    "\n",
    "# vgg\n",
    "1978\n",
    "1981\n",
    "1980\n",
    "1976\n",
    "1970"
   ]
  },
  {
   "cell_type": "code",
   "execution_count": null,
   "id": "0d3f9eb5",
   "metadata": {},
   "outputs": [],
   "source": [
    "# data_pkl = pickle.load(open('models/1 embeddings.pkl', 'rb'))"
   ]
  },
  {
   "cell_type": "code",
   "execution_count": null,
   "id": "6d15c227",
   "metadata": {},
   "outputs": [],
   "source": [
    "# filename = []\n",
    "# features = []\n",
    "# for file in data_pkl.values:\n",
    "#     filename.append(file[0])\n",
    "#     features.append(file[1][0])\n",
    "# features_arr = np.array(features)"
   ]
  },
  {
   "cell_type": "code",
   "execution_count": null,
   "id": "f1492d81",
   "metadata": {},
   "outputs": [],
   "source": [
    "# def load_model(feature_list_path, filenames_path):\n",
    "#     model = ResNet50V2(weights='imagenet',include_top=False,input_shape=(224,224,3))\n",
    "#     model.trainable = False\n",
    "\n",
    "#     model = Sequential([\n",
    "#         model,\n",
    "#         GlobalMaxPooling2D()\n",
    "#     ])\n",
    "    \n",
    "#     feature_list = np.array(pickle.load(open(feature_list_path, 'rb')))\n",
    "#     filenames = pickle.load(open(filenames_path, 'rb'))\n",
    "    \n",
    "#     new_filenames = [data.split('/')[-2:][1] for data in filenames]\n",
    "\n",
    "#     return model, feature_list, new_filenames"
   ]
  },
  {
   "cell_type": "code",
   "execution_count": null,
   "id": "b6d89a92",
   "metadata": {},
   "outputs": [],
   "source": [
    "# feature_list = np.array(pickle.load(open('models/1 embeddings.pkl', 'rb')))\n",
    "# filenames = pickle.load(open('models/1 filenames.pkl', 'rb'))"
   ]
  },
  {
   "cell_type": "code",
   "execution_count": null,
   "id": "f60a52ca",
   "metadata": {},
   "outputs": [],
   "source": [
    "# feature_list"
   ]
  },
  {
   "cell_type": "code",
   "execution_count": null,
   "id": "a3bf9aeb",
   "metadata": {},
   "outputs": [],
   "source": [
    "# If model Resnet V1 Old\n",
    "new_filenames = [data.split('/')[-2:][1] for data in filenames]"
   ]
  },
  {
   "cell_type": "code",
   "execution_count": null,
   "id": "1f8a9c72",
   "metadata": {},
   "outputs": [],
   "source": [
    "# If model using newer and dataset havnt grouping\n",
    "new_filenames = ['tokoquick' + '/' + file for file in filename]"
   ]
  },
  {
   "cell_type": "code",
   "execution_count": null,
   "id": "79f1e0ec",
   "metadata": {},
   "outputs": [],
   "source": [
    "new_filenames"
   ]
  },
  {
   "cell_type": "code",
   "execution_count": null,
   "id": "fe4b247b",
   "metadata": {},
   "outputs": [],
   "source": []
  },
  {
   "cell_type": "code",
   "execution_count": null,
   "id": "d547a3f1",
   "metadata": {
    "scrolled": false
   },
   "outputs": [],
   "source": [
    "def get_prediction(query_image, model, feature_list, filenames):\n",
    "    img = load_img(query_img,target_size=(224,224))\n",
    "    img_array = img_to_array(img)\n",
    "    expanded_img_array = np.expand_dims(img_array, axis=0)\n",
    "    preprocessed_img = preprocess_input(expanded_img_array)\n",
    "    result = model.predict(preprocessed_img).flatten()\n",
    "    normalized_result = result / norm(result)\n",
    "\n",
    "    neighbors = NearestNeighbors(n_neighbors=5,algorithm='brute',metric='cosine')\n",
    "    neighbors.fit(feature_list)\n",
    "\n",
    "    distances,indices = neighbors.kneighbors([normalized_result])\n",
    "\n",
    "    pred = []\n",
    "    for i in range(5):\n",
    "        index = indices[0][i]\n",
    "        distance = distances[0][i]\n",
    "        pred.append(filenames[index])\n",
    "        \n",
    "    return pred"
   ]
  },
  {
   "cell_type": "code",
   "execution_count": null,
   "id": "383a3ff4",
   "metadata": {},
   "outputs": [],
   "source": []
  }
 ],
 "metadata": {
  "kernelspec": {
   "display_name": "Python [conda env:python]",
   "language": "python",
   "name": "conda-env-python-py"
  },
  "language_info": {
   "codemirror_mode": {
    "name": "ipython",
    "version": 3
   },
   "file_extension": ".py",
   "mimetype": "text/x-python",
   "name": "python",
   "nbconvert_exporter": "python",
   "pygments_lexer": "ipython3",
   "version": "3.8.5"
  }
 },
 "nbformat": 4,
 "nbformat_minor": 5
}
